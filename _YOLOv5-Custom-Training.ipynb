{
 "cells": [
  {
   "cell_type": "markdown",
   "metadata": {
    "id": "hrsaDfdVHzxt"
   },
   "source": [
    "# Custom Training with YOLOv5\n",
    "\n",
    "In this tutorial, we use the coco128 dataset and train a custom YOLOv5 model to recognize the objects. To do so we will take the following steps:\n",
    "\n",
    "* Utilise the coco128 dataset that has images and labels\n",
    "* Train YOLOv5 to recognize the objects in our coco128 dataset\n",
    "* Evaluate our YOLOv5 model's performance\n",
    "* Run test inference to view our model at work\n",
    "\n",
    "![](https://uploads-ssl.webflow.com/5f6bc60e665f54545a1e52a5/615627e5824c9c6195abfda9_computer-vision-cycle.png)"
   ]
  },
  {
   "cell_type": "markdown",
   "metadata": {
    "id": "yNveqeA1KXGy"
   },
   "source": [
    "# Step 1: Install Requirements"
   ]
  },
  {
   "cell_type": "code",
   "execution_count": 5,
   "metadata": {},
   "outputs": [
    {
     "data": {
      "text/plain": [
       "'C:\\\\Users\\\\George Wager\\\\OneDrive - Harper Adams University\\\\Documents\\\\Implementing-YOLOv5\\\\yolov5'"
      ]
     },
     "execution_count": 5,
     "metadata": {},
     "output_type": "execute_result"
    },
    {
     "name": "stderr",
     "output_type": "stream",
     "text": [
      "ERROR: Could not install packages due to an OSError: [WinError 5] Access is denied: 'C:\\\\Users\\\\George Wager\\\\anaconda3\\\\envs\\\\yolov5\\\\Lib\\\\site-packages\\\\torch\\\\_C.cp39-win_amd64.pyd'\n",
      "Consider using the `--user` option or check the permissions.\n",
      "\n"
     ]
    }
   ],
   "source": [
    "%pwd\n",
    "'C:\\\\Users\\\\George Wager\\\\OneDrive - Harper Adams University\\\\Documents\\\\Implementing-YOLOv5\\\\yolov5'"
   ]
  },
  {
   "cell_type": "code",
   "execution_count": 6,
   "metadata": {
    "colab": {
     "base_uri": "https://localhost:8080/"
    },
    "executionInfo": {
     "elapsed": 19977,
     "status": "ok",
     "timestamp": 1643387523767,
     "user": {
      "displayName": "Ed Harris",
      "photoUrl": "https://lh3.googleusercontent.com/a-/AOh14GgauMgl-5ozWp5ss2gkaI9BpkrKEh4hRbj7qoPlYA=s64",
      "userId": "12889952584970668414"
     },
     "user_tz": 0
    },
    "id": "kTvDNSILZoN9",
    "outputId": "17e4d03c-838b-403e-8b41-03d160e2088a"
   },
   "outputs": [
    {
     "name": "stdout",
     "output_type": "stream",
     "text": [
      "Requirement already satisfied: opencv-python-headless in c:\\users\\george wager\\anaconda3\\envs\\yolov5\\lib\\site-packages (4.6.0.66)\n",
      "Requirement already satisfied: numpy>=1.14.5 in c:\\users\\george wager\\anaconda3\\envs\\yolov5\\lib\\site-packages (from opencv-python-headless) (1.23.4)\n",
      "Note: you may need to restart the kernel to use updated packages.\n",
      "Note: you may need to restart the kernel to use updated packages.\n",
      "Note: you may need to restart the kernel to use updated packages.\n",
      "Setup complete. Using torch 1.13.0+cpu (CPU)\n"
     ]
    }
   ],
   "source": [
    "#clone YOLOv5 from github\n",
    "#!git clone https://github.com/ultralytics/yolov5\n",
    "# %cd yolov5\n",
    "%pip install opencv-python-headless\n",
    "%pip install -qr requirements.txt\n",
    "%pip install -q roboflow\n",
    "\n",
    "import torch\n",
    "import os\n",
    "from IPython.display import Image, clear_output\n",
    "\n",
    "print(f\"Setup complete. Using torch {torch.__version__} ({torch.cuda.get_device_properties(0).name if torch.cuda.is_available() else 'CPU'})\")\n",
    "\n",
    "# Some warnings okay as of 2022-01-28"
   ]
  },
  {
   "cell_type": "markdown",
   "metadata": {
    "id": "X7yAi9hd-T4B"
   },
   "source": [
    "# Step 2: Train Our Custom YOLOv5 model\n",
    "\n",
    "Here, we are able to pass a number of arguments:\n",
    "- **img:** define input image size\n",
    "- **--rect** ONLY use is images are rectangle\n",
    "- **batch:** determine batch size\n",
    "- **epochs:** define the number of training epochs. (Note: often, 3000+ are common here!)\n",
    "- **data:** Our dataset locaiton is saved in the `dataset.location`\n",
    "- **weights:** specify a path to weights to start transfer learning from. Here we choose the generic COCO pretrained checkpoint.\n",
    "- **cache:** cache images for faster training"
   ]
  },
  {
   "cell_type": "code",
   "execution_count": 3,
   "metadata": {},
   "outputs": [
    {
     "name": "stdout",
     "output_type": "stream",
     "text": [
      "C:\\Users\\George Wager\\OneDrive - Harper Adams University\\Documents\\Implementing-YOLOv5\\yolov5\n"
     ]
    }
   ],
   "source": [
    "%pwd\n",
    "%cd yolov5"
   ]
  },
  {
   "cell_type": "code",
   "execution_count": 4,
   "metadata": {
    "colab": {
     "base_uri": "https://localhost:8080/"
    },
    "executionInfo": {
     "elapsed": 112034,
     "status": "ok",
     "timestamp": 1643387857205,
     "user": {
      "displayName": "Ed Harris",
      "photoUrl": "https://lh3.googleusercontent.com/a-/AOh14GgauMgl-5ozWp5ss2gkaI9BpkrKEh4hRbj7qoPlYA=s64",
      "userId": "12889952584970668414"
     },
     "user_tz": 0
    },
    "id": "eaFNnxLJbq4J",
    "outputId": "9a8b3543-2850-44f4-bed3-b5cac13e42d7"
   },
   "outputs": [
    {
     "name": "stderr",
     "output_type": "stream",
     "text": [
      "\u001b[34m\u001b[1mtrain: \u001b[0mweights=yolov5s.pt, cfg=, data=../yolo-files/coco128.yaml, hyp=data\\hyps\\hyp.scratch-low.yaml, epochs=30, batch_size=16, imgsz=416, rect=False, resume=False, nosave=False, noval=False, noautoanchor=False, noplots=False, evolve=None, bucket=, cache=ram, image_weights=False, device=, multi_scale=False, single_cls=False, optimizer=SGD, sync_bn=False, workers=8, project=runs\\train, name=exp, exist_ok=False, quad=False, cos_lr=False, label_smoothing=0.0, patience=100, freeze=[0], save_period=-1, seed=0, local_rank=-1, entity=None, upload_dataset=False, bbox_interval=-1, artifact_alias=latest\n",
      "\u001b[34m\u001b[1mgithub: \u001b[0mup to date with https://github.com/ultralytics/yolov5 \n",
      "fatal: cannot change to 'C:\\Users\\George': No such file or directory\n",
      "YOLOv5  2022-11-4 Python-3.9.13 torch-1.13.0+cpu CPU\n",
      "\n",
      "\u001b[34m\u001b[1mhyperparameters: \u001b[0mlr0=0.01, lrf=0.01, momentum=0.937, weight_decay=0.0005, warmup_epochs=3.0, warmup_momentum=0.8, warmup_bias_lr=0.1, box=0.05, cls=0.5, cls_pw=1.0, obj=1.0, obj_pw=1.0, iou_t=0.2, anchor_t=4.0, fl_gamma=0.0, hsv_h=0.015, hsv_s=0.7, hsv_v=0.4, degrees=0.0, translate=0.1, scale=0.5, shear=0.0, perspective=0.0, flipud=0.0, fliplr=0.5, mosaic=1.0, mixup=0.0, copy_paste=0.0\n",
      "\u001b[34m\u001b[1mClearML: \u001b[0mrun 'pip install clearml' to automatically track, visualize and remotely train YOLOv5  in ClearML\n",
      "\u001b[34m\u001b[1mComet: \u001b[0mrun 'pip install comet_ml' to automatically track and visualize YOLOv5  runs in Comet\n",
      "\u001b[34m\u001b[1mTensorBoard: \u001b[0mStart with 'tensorboard --logdir runs\\train', view at http://localhost:6006/\n",
      "\n",
      "Dataset not found , missing paths ['C:\\\\Users\\\\George Wager\\\\OneDrive - Harper Adams University\\\\Documents\\\\Implementing-YOLOv5\\\\data-stems-joe\\\\coco128\\\\images\\\\train2017']\n",
      "Traceback (most recent call last):\n",
      "  File \"C:\\Users\\George Wager\\OneDrive - Harper Adams University\\Documents\\Implementing-YOLOv5\\yolov5\\train.py\", line 630, in <module>\n",
      "    main(opt)\n",
      "  File \"C:\\Users\\George Wager\\OneDrive - Harper Adams University\\Documents\\Implementing-YOLOv5\\yolov5\\train.py\", line 524, in main\n",
      "    train(opt.hyp, opt, device, callbacks)\n",
      "  File \"C:\\Users\\George Wager\\OneDrive - Harper Adams University\\Documents\\Implementing-YOLOv5\\yolov5\\train.py\", line 109, in train\n",
      "    data_dict = data_dict or check_dataset(data)  # check if None\n",
      "  File \"C:\\Users\\George Wager\\OneDrive - Harper Adams University\\Documents\\Implementing-YOLOv5\\yolov5\\utils\\general.py\", line 512, in check_dataset\n",
      "    raise Exception('Dataset not found \\u274c')\n",
      "Exception: Dataset not found \\u274c\n"
     ]
    }
   ],
   "source": [
    "!python train.py --img 416 --batch 16 --epochs 30 --data ../yolo-files/coco128.yaml --weights yolov5s.pt --cache"
   ]
  },
  {
   "cell_type": "markdown",
   "metadata": {},
   "source": [
    "# Step 3: test test test\n",
    "Now test your model on some test images."
   ]
  },
  {
   "cell_type": "code",
   "execution_count": 14,
   "metadata": {},
   "outputs": [
    {
     "name": "stdout",
     "output_type": "stream",
     "text": [
      "[WinError 2] The system cannot find the file specified: 'yolov5'\n",
      "C:\\Users\\George Wager\\OneDrive - Harper Adams University\\Documents\\Implementing-YOLOv5\\yolov5\n"
     ]
    }
   ],
   "source": [
    "# set your pwd as the yolov5\n",
    "%pwd\n",
    "%cd yolov5"
   ]
  },
  {
   "cell_type": "code",
   "execution_count": 13,
   "metadata": {
    "colab": {
     "base_uri": "https://localhost:8080/"
    },
    "executionInfo": {
     "elapsed": 6956,
     "status": "ok",
     "timestamp": 1643388655456,
     "user": {
      "displayName": "Ed Harris",
      "photoUrl": "https://lh3.googleusercontent.com/a-/AOh14GgauMgl-5ozWp5ss2gkaI9BpkrKEh4hRbj7qoPlYA=s64",
      "userId": "12889952584970668414"
     },
     "user_tz": 0
    },
    "id": "TWjjiBcic3Vz",
    "outputId": "5059da10-f85a-43da-edfb-f8d897260353"
   },
   "outputs": [
    {
     "name": "stderr",
     "output_type": "stream",
     "text": [
      "\u001b[34m\u001b[1mdetect: \u001b[0mweights=['runs/train/exp/weights/best.pt'], source=../coco128/test, data=data\\coco128.yaml, imgsz=[416, 416], conf_thres=0.1, iou_thres=0.45, max_det=1000, device=, view_img=False, save_txt=False, save_conf=False, save_crop=False, nosave=False, classes=None, agnostic_nms=False, augment=False, visualize=False, update=False, project=runs\\detect, name=exp, exist_ok=False, line_thickness=3, hide_labels=False, hide_conf=False, half=False, dnn=False, vid_stride=1\n",
      "fatal: cannot change to 'C:\\Users\\George': No such file or directory\n",
      "YOLOv5  2022-11-4 Python-3.9.13 torch-1.13.0+cpu CPU\n",
      "\n",
      "Traceback (most recent call last):\n",
      "  File \"C:\\Users\\George Wager\\OneDrive - Harper Adams University\\Documents\\Implementing-YOLOv5\\yolov5\\detect.py\", line 258, in <module>\n",
      "    main(opt)\n",
      "  File \"C:\\Users\\George Wager\\OneDrive - Harper Adams University\\Documents\\Implementing-YOLOv5\\yolov5\\detect.py\", line 253, in main\n",
      "    run(**vars(opt))\n",
      "  File \"C:\\Users\\George Wager\\anaconda3\\envs\\yolov5\\lib\\site-packages\\torch\\autograd\\grad_mode.py\", line 27, in decorate_context\n",
      "    return func(*args, **kwargs)\n",
      "  File \"C:\\Users\\George Wager\\OneDrive - Harper Adams University\\Documents\\Implementing-YOLOv5\\yolov5\\detect.py\", line 95, in run\n",
      "    model = DetectMultiBackend(weights, device=device, dnn=dnn, data=data, fp16=half)\n",
      "  File \"C:\\Users\\George Wager\\OneDrive - Harper Adams University\\Documents\\Implementing-YOLOv5\\yolov5\\models\\common.py\", line 345, in __init__\n",
      "    model = attempt_load(weights if isinstance(weights, list) else w, device=device, inplace=True, fuse=fuse)\n",
      "  File \"C:\\Users\\George Wager\\OneDrive - Harper Adams University\\Documents\\Implementing-YOLOv5\\yolov5\\models\\experimental.py\", line 79, in attempt_load\n",
      "    ckpt = torch.load(attempt_download(w), map_location='cpu')  # load\n",
      "  File \"C:\\Users\\George Wager\\anaconda3\\envs\\yolov5\\lib\\site-packages\\torch\\serialization.py\", line 771, in load\n",
      "    with _open_file_like(f, 'rb') as opened_file:\n",
      "  File \"C:\\Users\\George Wager\\anaconda3\\envs\\yolov5\\lib\\site-packages\\torch\\serialization.py\", line 270, in _open_file_like\n",
      "    return _open_file(name_or_buffer, mode)\n",
      "  File \"C:\\Users\\George Wager\\anaconda3\\envs\\yolov5\\lib\\site-packages\\torch\\serialization.py\", line 251, in __init__\n",
      "    super(_open_file, self).__init__(open(name, mode))\n",
      "FileNotFoundError: [Errno 2] No such file or directory: 'runs\\\\train\\\\exp\\\\weights\\\\best.pt'\n"
     ]
    }
   ],
   "source": [
    "!python detect.py --weights runs/train/exp/weights/best.pt --img 416 --conf 0.1 --source ../coco128/test"
   ]
  },
  {
   "cell_type": "markdown",
   "metadata": {
    "id": "g8dHcni6CJYt"
   },
   "source": [
    "# Conclusion and Next Steps\n",
    "\n",
    "Congratulations! You've trained a custom YOLOv5 model to recognize your custom objects.\n",
    "\n",
    "To improve you model's performance, we recommend first interating on your datasets coverage and quality. See this guide for [model performance improvement](https://github.com/ultralytics/yolov5/wiki/Tips-for-Best-Training-Results).\n",
    "\n",
    "To deploy your model to an application, see this guide on [exporting your model to deployment destinations](https://github.com/ultralytics/yolov5/issues/251).\n",
    "\n",
    "Once your model is in production, you will want to continually iterate and improve on your dataset and model via [active learning](https://blog.roboflow.com/what-is-active-learning/)."
   ]
  }
 ],
 "metadata": {
  "accelerator": "GPU",
  "colab": {
   "collapsed_sections": [],
   "name": "YOLOv5-Custom-Training.ipynb",
   "provenance": [
    {
     "file_id": "https://github.com/roboflow-ai/yolov5-custom-training-tutorial/blob/main/yolov5-custom-training.ipynb",
     "timestamp": 1643381752017
    }
   ]
  },
  "kernelspec": {
   "display_name": "Python 3 (ipykernel)",
   "language": "python",
   "name": "python3"
  },
  "language_info": {
   "codemirror_mode": {
    "name": "ipython",
    "version": 3
   },
   "file_extension": ".py",
   "mimetype": "text/x-python",
   "name": "python",
   "nbconvert_exporter": "python",
   "pygments_lexer": "ipython3",
   "version": "3.9.13"
  }
 },
 "nbformat": 4,
 "nbformat_minor": 4
}
